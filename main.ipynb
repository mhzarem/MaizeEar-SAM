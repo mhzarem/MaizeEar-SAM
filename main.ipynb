{
 "cells": [
  {
   "cell_type": "markdown",
   "id": "787278d9",
   "metadata": {},
   "source": [
    "## Maize Sam Demo\n",
    "### This Notebook shows the Demo how our pipeline find number of the kernel per row from croped corn ear\n",
    "### run on all hybrid images"
   ]
  },
  {
   "cell_type": "code",
   "execution_count": 1,
   "id": "397458e7-5a34-4ba7-bc5c-ad182901345c",
   "metadata": {},
   "outputs": [],
   "source": [
    "import sys\n",
    "sys.path.append(\"./utils\")\n",
    "sys.path.append(\"./Models\")\n",
    "\n",
    "from corn_path_finder import CornPathFinder\n",
    "from segment_any_corn import SegmentAnyCorn\n",
    "from post_processing_corn import PostprocessingCorn\n",
    "from corn_data import CornData\n",
    "import matplotlib.pyplot as plt\n",
    "import sys\n",
    "\n",
    "from visualization import show_path_on_corn"
   ]
  },
  {
   "cell_type": "code",
   "execution_count": 2,
   "id": "81ee2d5a",
   "metadata": {},
   "outputs": [],
   "source": [
    "HYBRID_FOLDER_PATH = \"./Data/hybrid_maize/Croppe\""
   ]
  },
  {
   "cell_type": "code",
   "execution_count": 3,
   "id": "4c8e76a8",
   "metadata": {},
   "outputs": [],
   "source": [
    "import os\n",
    "\n",
    "def get_image_paths(root_folder):\n",
    "    # List of image extensions\n",
    "    image_extensions = ['.png']\n",
    "    \n",
    "    # List to store image paths\n",
    "    maize_ear_image_paths = []\n",
    "\n",
    "    # Walk through the directory\n",
    "    for subdir, _, files in os.walk(root_folder):\n",
    "        for file in files:\n",
    "            # Check if the file is an image\n",
    "            if any(file.lower().endswith(ext) for ext in image_extensions):\n",
    "                # Add the file path to the list\n",
    "                maize_ear_image_paths.append(os.path.join(subdir, file))\n",
    "    \n",
    "    return maize_ear_image_paths\n",
    "image_paths = get_image_paths(HYBRID_FOLDER_PATH)\n"
   ]
  },
  {
   "cell_type": "code",
   "execution_count": 4,
   "id": "4befcffa",
   "metadata": {},
   "outputs": [],
   "source": [
    "def process_image(image_path):\n",
    "    # Load the image\n",
    "    data = CornData(image_path)\n",
    "    \n",
    "    # Segment each kernel of corn by using SAM model\n",
    "    seg = SegmentAnyCorn(data, checkpoint=\"./Models/saved_weight/sam_vit_h_4b8939.pth\")\n",
    "    seg.instance_segmention_of_cob()\n",
    "    \n",
    "    # Apply post processing on the segmented image\n",
    "    post = PostprocessingCorn(data)\n",
    "    post.check_iou_area()\n",
    "    post.calculate_center_bondingbox()\n",
    "    \n",
    "    # Find the path of the corn ear after post processing\n",
    "    path = CornPathFinder(data)\n",
    "    path.make_path()\n",
    "    \n",
    "    \n",
    "    dir_path = os.path.dirname(image_path)\n",
    "    file_name = os.path.basename(image_path).split(\".\")[0]\n",
    "\n",
    "    pkl_path = os.path.join(dir_path, file_name + \".pkl\")\n",
    "\n",
    "\n",
    "    # Save the data to a file\n",
    "    data.save_to_file(pkl_path)"
   ]
  },
  {
   "cell_type": "code",
   "execution_count": 5,
   "id": "7b619ea2",
   "metadata": {},
   "outputs": [
    {
     "name": "stdout",
     "output_type": "stream",
     "text": [
      "Segmentation is ended for the image in ./Data/hybrid_maize/Croped/22-A-1585227/22-A-1585227-24 OP.png\n",
      "the central path length is 44\n",
      "the right path length is 41\n",
      "An unexpected error occurred: No path to 8.\n",
      "An unexpected error occurred: object of type 'NoneType' has no len()\n"
     ]
    }
   ],
   "source": [
    "process_image(image_paths[0])"
   ]
  },
  {
   "cell_type": "code",
   "execution_count": null,
   "id": "3179c78f",
   "metadata": {},
   "outputs": [],
   "source": [
    "image_paths[0]"
   ]
  },
  {
   "cell_type": "code",
   "execution_count": null,
   "id": "465769eb",
   "metadata": {},
   "outputs": [],
   "source": [
    "import concurrent.futures\n",
    "\n",
    "# Run the tasks in parallel\n",
    "with concurrent.futures.ThreadPoolExecutor() as executor:\n",
    "    results = list(executor.map(process_image, image_paths))"
   ]
  },
  {
   "cell_type": "code",
   "execution_count": null,
   "id": "15cb1a7e",
   "metadata": {},
   "outputs": [],
   "source": [
    "pkl_file = \"./Data/hybrid_maize/Croped/22-A-1585227/22-A-1585227-24 OP.pkl\""
   ]
  },
  {
   "cell_type": "code",
   "execution_count": null,
   "id": "41ba6a9c",
   "metadata": {},
   "outputs": [],
   "source": []
  }
 ],
 "metadata": {
  "kernelspec": {
   "display_name": "Python 3 (ipykernel)",
   "language": "python",
   "name": "python3"
  },
  "language_info": {
   "codemirror_mode": {
    "name": "ipython",
    "version": 3
   },
   "file_extension": ".py",
   "mimetype": "text/x-python",
   "name": "python",
   "nbconvert_exporter": "python",
   "pygments_lexer": "ipython3",
   "version": "3.11.3"
  }
 },
 "nbformat": 4,
 "nbformat_minor": 5
}
