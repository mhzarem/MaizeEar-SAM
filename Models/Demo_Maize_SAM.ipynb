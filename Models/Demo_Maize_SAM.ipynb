{
 "cells": [
  {
   "cell_type": "markdown",
   "id": "787278d9",
   "metadata": {},
   "source": [
    "## Maize Sam Demo\n",
    "### This Notebook shows the Demo how our pipeline find number of the kernel per row from croped corn ear"
   ]
  },
  {
   "cell_type": "code",
   "execution_count": 2,
   "id": "397458e7-5a34-4ba7-bc5c-ad182901345c",
   "metadata": {},
   "outputs": [],
   "source": [
    "from corn_path_finder import CornPathFinder\n",
    "from segment_any_corn import SegmentAnyCorn\n",
    "from post_processing_corn import PostprocessingCorn\n",
    "from corn_data import CornData\n",
    "import matplotlib.pyplot as plt\n",
    "import sys\n",
    "sys.path.append(\"../utils\")\n",
    "from visualization import show_path_on_corn"
   ]
  },
  {
   "cell_type": "code",
   "execution_count": 2,
   "id": "13b12fd1-2595-4a6e-9e21-fe8d382cd8f2",
   "metadata": {},
   "outputs": [],
   "source": [
    "data = CornData(\"example_corn.png\")"
   ]
  },
  {
   "cell_type": "code",
   "execution_count": 5,
   "id": "c24a452c-ac55-4905-b6c1-fb3927e03909",
   "metadata": {},
   "outputs": [
    {
     "name": "stdout",
     "output_type": "stream",
     "text": [
      "Segmentation is ended for the image in example_corn.png\n"
     ]
    }
   ],
   "source": [
    "# segment each kerel of corn by using SAM model\n",
    "seg = SegmentAnyCorn(data, checkpoint=\"saved_weight/sam_vit_h_4b8939.pth\")\n",
    "seg.instance_segmention_of_cob()"
   ]
  },
  {
   "cell_type": "code",
   "execution_count": 6,
   "id": "7c81764a-ed1e-49f0-96d1-20d3dd94f9b4",
   "metadata": {},
   "outputs": [],
   "source": [
    "# Apply post processing on the segmented image\n",
    "post = PostprocessingCorn(data)\n",
    "post.check_iou_area()\n",
    "post.calculate_center_bondingbox()\n"
   ]
  },
  {
   "cell_type": "code",
   "execution_count": 3,
   "id": "70423177",
   "metadata": {},
   "outputs": [
    {
     "name": "stdout",
     "output_type": "stream",
     "text": [
      "the central path length is 37\n",
      "the right path length is 25\n",
      "the left path lenght is 29\n"
     ]
    }
   ],
   "source": [
    "data = CornData.load_from_file(\"../Data/validation_sam/spirall_corn.pkl\")\n",
    "# Find the path of the corn ear after post processing\n",
    "path = CornPathFinder(data)\n",
    "path.make_path()"
   ]
  },
  {
   "cell_type": "code",
   "execution_count": 4,
   "id": "c5423d14",
   "metadata": {},
   "outputs": [],
   "source": [
    "data.save_to_file(\"save_to_file.pkl\")"
   ]
  },
  {
   "cell_type": "code",
   "execution_count": null,
   "id": "81ee2d5a",
   "metadata": {},
   "outputs": [],
   "source": []
  }
 ],
 "metadata": {
  "kernelspec": {
   "display_name": "Python 3 (ipykernel)",
   "language": "python",
   "name": "python3"
  },
  "language_info": {
   "codemirror_mode": {
    "name": "ipython",
    "version": 3
   },
   "file_extension": ".py",
   "mimetype": "text/x-python",
   "name": "python",
   "nbconvert_exporter": "python",
   "pygments_lexer": "ipython3",
   "version": "3.11.3"
  }
 },
 "nbformat": 4,
 "nbformat_minor": 5
}
